{
 "cells": [
  {
   "cell_type": "code",
   "execution_count": 4,
   "id": "ae8c3c09",
   "metadata": {},
   "outputs": [
    {
     "name": "stdout",
     "output_type": "stream",
     "text": [
      "Enter word:   mahmoud\n",
      "word:  mahmoud\n",
      "Even characters\n",
      "[ 0 ] m\n",
      "[ 2 ] h\n",
      "[ 4 ] o\n",
      "[ 6 ] d\n"
     ]
    }
   ],
   "source": [
    "str = input('Enter word:   ')\n",
    "print(\"word: \", str)\n",
    "size = len(str)\n",
    "print(\"Even characters\")\n",
    "for i in range(0, size , 2):\n",
    "    print(\"[\", i, \"]\", str[i])\n"
   ]
  },
  {
   "cell_type": "code",
   "execution_count": null,
   "id": "39013338",
   "metadata": {},
   "outputs": [],
   "source": []
  },
  {
   "cell_type": "code",
   "execution_count": null,
   "id": "7034e0f5",
   "metadata": {},
   "outputs": [],
   "source": []
  },
  {
   "cell_type": "code",
   "execution_count": null,
   "id": "bbba0c41",
   "metadata": {},
   "outputs": [],
   "source": []
  }
 ],
 "metadata": {
  "kernelspec": {
   "display_name": "Python 3 (ipykernel)",
   "language": "python",
   "name": "python3"
  },
  "language_info": {
   "codemirror_mode": {
    "name": "ipython",
    "version": 3
   },
   "file_extension": ".py",
   "mimetype": "text/x-python",
   "name": "python",
   "nbconvert_exporter": "python",
   "pygments_lexer": "ipython3",
   "version": "3.9.13"
  }
 },
 "nbformat": 4,
 "nbformat_minor": 5
}
